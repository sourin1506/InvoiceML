{
 "cells": [
  {
   "cell_type": "code",
   "execution_count": 144,
   "metadata": {},
   "outputs": [],
   "source": [
    "import pandas as pd\n",
    "import numpy as np\n",
    "import datetime\n",
    "import warnings\n",
    "warnings.filterwarnings(\"ignore\")\n",
    "from sklearn.model_selection import train_test_split"
   ]
  },
  {
   "cell_type": "code",
   "execution_count": 145,
   "metadata": {},
   "outputs": [
    {
     "data": {
      "text/plain": [
       "(50000, 19)"
      ]
     },
     "execution_count": 145,
     "metadata": {},
     "output_type": "execute_result"
    }
   ],
   "source": [
    "data = pd.read_csv('../Documents/HighRadius/1806077.csv', nrows=50000)\n",
    "data.shape"
   ]
  },
  {
   "cell_type": "code",
   "execution_count": 146,
   "metadata": {},
   "outputs": [],
   "source": [
    "data['clear_date']=pd.to_datetime(data.clear_date)\n",
    "data['due_in_date']=pd.to_datetime(data.due_in_date,format=\"%Y%m%d\")"
   ]
  },
  {
   "cell_type": "code",
   "execution_count": 147,
   "metadata": {},
   "outputs": [],
   "source": [
    "data['delay']=data['clear_date']-data['due_in_date']"
   ]
  },
  {
   "cell_type": "code",
   "execution_count": 148,
   "metadata": {},
   "outputs": [],
   "source": [
    "X_test=data[data['clear_date'].isna()]\n",
    "X_train=data[data['clear_date'].notna()]"
   ]
  },
  {
   "cell_type": "code",
   "execution_count": 149,
   "metadata": {},
   "outputs": [],
   "source": [
    "target_mapper = X_train.groupby('name_customer')['delay'].agg(lambda x:x.value_counts().index[0]).to_dict()"
   ]
  },
  {
   "cell_type": "code",
   "execution_count": 150,
   "metadata": {},
   "outputs": [],
   "source": [
    "def addX_train(X_train):\n",
    "    X_train.drop(['posting_id', 'area_business'],axis=1,inplace=True)\n",
    "    X_train['invoice_id'] = X_train['invoice_id'].fillna(X_train['doc_id'])\n",
    "    X_train['posting_date']=pd.to_datetime(X_train.posting_date,format=\"%Y-%m-%d\")\n",
    "    X_train['baseline_create_date']=pd.to_datetime(X_train.baseline_create_date,format=\"%Y%m%d\")\n",
    "    X_train['document_create_date.1']=pd.to_datetime(X_train['document_create_date.1'],format=\"%Y%m%d\")\n",
    "    X_train['delay']=( X_train['delay']/ np.timedelta64 (1, 'D')).astype (float)\n",
    "    Y_train=X_train['delay']\n",
    "    X_train.drop('document_create_date',axis=1,inplace=True)\n",
    "    X_train=X_train.sort_values(by=\"document_create_date.1\")\n",
    "    X_train['cube_root_open_amount']=np.cbrt(X_train['total_open_amount'])\n",
    "    mapper = X_train.groupby('name_customer')['total_open_amount'].mean().to_dict() \n",
    "    X_train['avg_amt_company'] = X_train['name_customer'].map(mapper)\n",
    "    target_mapper = X_train.groupby('name_customer')['delay'].agg(lambda x:x.value_counts().index[0]).to_dict()\n",
    "    X_train['modedelay'] = X_train['name_customer'].map(target_mapper)\n",
    "    bin_ranges=[-90,0,10,20,30,50,100,150,200]\n",
    "    bin_names=[-1,0,1,2,3,4,5,6]\n",
    "    X_train['delay_bins'] = pd.cut( np.array(X_train['modedelay']),bins=bin_ranges, labels=bin_names)\n",
    "    X_train['diff']=X_train['due_in_date']-X_train['document_create_date.1']\n",
    "    X_train['diff']=( X_train['diff']/ np.timedelta64 (1, 'D')).astype (float)\n",
    "    X_train['whenlate']=np.where(X_train['delay_bins'] >=1,X_train['diff'],0) \n",
    "    X_train['duemonth']=X_train['due_in_date'].dt.month\n",
    "    X_train['dueday']=X_train['due_in_date'].dt.day\n",
    "    X_train['dueyear']=X_train['due_in_date'].dt.year\n",
    "    X_train['paytime']=X_train['due_in_date']+pd.to_timedelta(X_train['modedelay'])\n",
    "    X_train['paytime']=X_train['paytime']-X_train['document_create_date.1']\n",
    "    X_train['paytime']=( X_train['paytime']/ np.timedelta64 (1, 'D')).astype (float)\n",
    "    X_train['late']=np.where(X_train['delay_bins'] >=1,1,0)\n",
    "    X_train['ontime']=np.where(X_train['delay_bins'] <= 0,1,0)\n",
    "    mapper = X_train.groupby('name_customer')['late'].sum().to_dict()\n",
    "    X_train['totallate'] = X_train['name_customer'].map(mapper)\n",
    "    X_train['delay_bins'].fillna(0,inplace=True)\n",
    "    X_train['delay_bins']=X_train.delay_bins.astype('category').cat.codes\n",
    "    X_train.drop(['ontime', 'dueyear', 'paytime', 'invoice_id'],axis=1,inplace=True)\n",
    "    obj_columns=list(X_train.columns[X_train.dtypes=='object'])\n",
    "    X_train.drop(obj_columns,axis=1,inplace=True)\n",
    "    date_columns=list(X_train.columns[X_train.dtypes=='datetime64[ns]'])\n",
    "    X_train.drop(date_columns,axis=1,inplace=True)\n",
    "    X_train.drop('delay',axis=1,inplace=True)\n",
    "    return X_train,Y_train"
   ]
  },
  {
   "cell_type": "code",
   "execution_count": 151,
   "metadata": {},
   "outputs": [],
   "source": [
    "def addX_test(X_test,target_mapper):\n",
    "    X_test['modedelay'] = X_test['name_customer'].map(target_mapper)\n",
    "    X_test['modedelay']=( X_test['modedelay']/ np.timedelta64 (1, 'D')).astype (float)\n",
    "    X_test['modedelay'].fillna(0,inplace=True)\n",
    "    X_test['cube_root_open_amount']=np.cbrt(X_test['total_open_amount'])\n",
    "    mapper = X_test.groupby('name_customer')['total_open_amount'].mean().to_dict() \n",
    "    X_test['avg_amt_company'] = X_test['name_customer'].map(mapper)\n",
    "    bin_ranges=[-90,0,10,20,30,50,100,150,200]\n",
    "    bin_names=[-1,0,1,2,3,4,5,6]\n",
    "    X_test['delay_bins'] = pd.cut( np.array(X_test['modedelay']),bins=bin_ranges, labels=bin_names)\n",
    "    X_test['posting_date']=pd.to_datetime(X_test.posting_date,format=\"%Y-%m-%d\")\n",
    "    X_test['baseline_create_date']=pd.to_datetime(X_test.baseline_create_date,format=\"%Y%m%d\")\n",
    "    X_test['document_create_date.1']=pd.to_datetime(X_test['document_create_date.1'],format=\"%Y%m%d\")\n",
    "    X_test['diff']=X_test['due_in_date']-X_test['document_create_date.1']\n",
    "    X_test['diff']=( X_test['diff']/ np.timedelta64 (1, 'D')).astype (float)\n",
    "    X_test['whenlate']=np.where(X_test['delay_bins'] >=1,X_test['diff'],0) \n",
    "    X_test['duemonth']=X_test['due_in_date'].dt.month\n",
    "    X_test['dueday']=X_test['due_in_date'].dt.day\n",
    "    X_test['dueyear']=X_test['due_in_date'].dt.year\n",
    "    X_test['paytime']=X_test['due_in_date']+pd.to_timedelta(X_test['modedelay'],'D')\n",
    "    X_test['paytime']=X_test['paytime']-X_test['document_create_date.1']\n",
    "    X_test['paytime']=( X_test['paytime']/ np.timedelta64 (1, 'D')).astype (float)\n",
    "    X_test['late']=np.where(X_test['delay_bins'] >=1,1,0)\n",
    "    X_test['ontime']=np.where(X_test['delay_bins'] <= 0,1,0)\n",
    "    mapper = X_test.groupby('name_customer')['late'].sum().to_dict()\n",
    "    X_test['totallate'] = X_test['name_customer'].map(mapper)\n",
    "    obj_columns=list(X_test.columns[X_test.dtypes=='object'])\n",
    "    date_columns=list(X_test.columns[X_test.dtypes=='datetime64[ns]'])\n",
    "    X_test.drop(obj_columns,axis=1,inplace=True)\n",
    "    X_test.drop(date_columns,axis=1,inplace=True)\n",
    "    X_test.drop(['ontime', 'dueyear', 'paytime', 'invoice_id'],axis=1,inplace=True)\n",
    "    X_test['delay_bins'].fillna(0,inplace=True)\n",
    "    X_test['delay_bins']=X_test.delay_bins.astype('category').cat.codes\n",
    "    X_test.drop(['delay'],axis=1,inplace=True)\n",
    "    X_test.drop(['document_create_date','posting_id','area_business'],axis=1,inplace=True)\n",
    "    return X_test;"
   ]
  },
  {
   "cell_type": "code",
   "execution_count": 152,
   "metadata": {},
   "outputs": [],
   "source": [
    "def fitmodeltest(X_train,Y_train,X_test):\n",
    "    from sklearn.ensemble import RandomForestRegressor\n",
    "    clf = RandomForestRegressor()\n",
    "    clf.fit(X_train, Y_train)\n",
    "\n",
    "    # Predicting the Test Set Results\n",
    "    predicted = clf.predict(X_test)\n",
    "    return predicted"
   ]
  },
  {
   "cell_type": "code",
   "execution_count": 153,
   "metadata": {},
   "outputs": [],
   "source": [
    "def fitmodel(X_train,X_test):\n",
    "    X_train,Y_train=addX_train(X_train)\n",
    "    X_test=addX_test(X_test,target_mapper)\n",
    "    predicted=fitmodeltest(X_train,Y_train,X_test)\n",
    "    return predicted,Y_train"
   ]
  },
  {
   "cell_type": "code",
   "execution_count": 154,
   "metadata": {},
   "outputs": [],
   "source": [
    "predicted,Y_train=fitmodel(X_train,X_test)"
   ]
  },
  {
   "cell_type": "code",
   "execution_count": 155,
   "metadata": {},
   "outputs": [],
   "source": [
    "def merge():\n",
    "    Lastset=data[data['clear_date'].isna()]\n",
    "    Lastset['delay']=np.round(predicted)\n",
    "    Lastset['delay']=pd.to_timedelta(Lastset['delay'], unit='D', errors='raise')\n",
    "    Lastset['clear_date']=Lastset['due_in_date']+Lastset['delay']\n",
    "    data[data['clear_date'].isna()]=Lastset\n",
    "    data['delay']=( data['delay']/ np.timedelta64 (1, 'D')).astype (float)\n",
    "    bin_ranges=[-90,0,15,30,60,90,120,150,180]\n",
    "    bin_names=['<0','0-15','16-30','31-60','60-90','90-120','121-150','>180']\n",
    "    data['AgingBucket'] = pd.cut( np.array(data['delay']),bins=bin_ranges, labels=bin_names)\n",
    "    \n",
    "    return data"
   ]
  },
  {
   "cell_type": "code",
   "execution_count": 156,
   "metadata": {},
   "outputs": [],
   "source": [
    "data=merge()"
   ]
  },
  {
   "cell_type": "code",
   "execution_count": 157,
   "metadata": {},
   "outputs": [],
   "source": [
    "data.to_csv('invoice.csv')"
   ]
  },
  {
   "cell_type": "code",
   "execution_count": null,
   "metadata": {},
   "outputs": [],
   "source": []
  }
 ],
 "metadata": {
  "kernelspec": {
   "display_name": "Python 3",
   "language": "python",
   "name": "python3"
  },
  "language_info": {
   "codemirror_mode": {
    "name": "ipython",
    "version": 3
   },
   "file_extension": ".py",
   "mimetype": "text/x-python",
   "name": "python",
   "nbconvert_exporter": "python",
   "pygments_lexer": "ipython3",
   "version": "3.8.5"
  }
 },
 "nbformat": 4,
 "nbformat_minor": 4
}
