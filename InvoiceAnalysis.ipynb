{
 "cells": [
  {
   "cell_type": "code",
   "execution_count": 84,
   "metadata": {},
   "outputs": [],
   "source": [
    "import pandas as pd\n",
    "import numpy as np\n",
    "import datetime\n",
    "import warnings\n",
    "import pickle\n",
    "warnings.filterwarnings(\"ignore\")\n",
    "from sklearn.model_selection import train_test_split"
   ]
  },
  {
   "cell_type": "code",
   "execution_count": 85,
   "metadata": {},
   "outputs": [
    {
     "data": {
      "text/plain": [
       "(50000, 19)"
      ]
     },
     "execution_count": 85,
     "metadata": {},
     "output_type": "execute_result"
    }
   ],
   "source": [
    "data = pd.read_csv('1806077.csv', nrows=50000)\n",
    "data.shape"
   ]
  },
  {
   "cell_type": "code",
   "execution_count": 86,
   "metadata": {},
   "outputs": [],
   "source": [
    "data['clear_date']=pd.to_datetime(data.clear_date)\n",
    "data['due_in_date']=pd.to_datetime(data.due_in_date,format=\"%Y%m%d\")\n",
    "data['delay']=data['clear_date']-data['due_in_date']"
   ]
  },
  {
   "cell_type": "code",
   "execution_count": 87,
   "metadata": {},
   "outputs": [],
   "source": [
    "X_test=data[data['clear_date'].isna()]"
   ]
  },
  {
   "cell_type": "code",
   "execution_count": 88,
   "metadata": {},
   "outputs": [],
   "source": [
    "X_train=data[data['clear_date'].notna()]"
   ]
  },
  {
   "cell_type": "code",
   "execution_count": 89,
   "metadata": {},
   "outputs": [],
   "source": [
    "#fillna fills the null values present in the given column\n",
    "X_train['invoice_id'] = X_train['invoice_id'].fillna(X_train['doc_id'])"
   ]
  },
  {
   "cell_type": "code",
   "execution_count": 90,
   "metadata": {},
   "outputs": [],
   "source": [
    "X_train['posting_date']=pd.to_datetime(X_train.posting_date,format=\"%Y-%m-%d\")\n",
    "X_train['baseline_create_date']=pd.to_datetime(X_train.baseline_create_date,format=\"%Y%m%d\")\n",
    "X_train['document_create_date.1']=pd.to_datetime(X_train['document_create_date.1'],format=\"%Y%m%d\")"
   ]
  },
  {
   "cell_type": "code",
   "execution_count": 91,
   "metadata": {},
   "outputs": [],
   "source": [
    "X_train['delay']=( X_train['delay']/ np.timedelta64 (1, 'D')).astype (float)"
   ]
  },
  {
   "cell_type": "code",
   "execution_count": 92,
   "metadata": {},
   "outputs": [
    {
     "name": "stdout",
     "output_type": "stream",
     "text": [
      "(31948, 19) (31948,) (13692, 19) (13692,)\n"
     ]
    }
   ],
   "source": [
    "X_train_new, X_test_initial, Y_train_new, Y_test_initial = train_test_split(X_train.drop('delay', axis=1), \n",
    "                                                    X_train.delay,test_size=0.3,shuffle=False,random_state=1)\n",
    "print(X_train_new.shape, Y_train_new.shape, X_test_initial.shape, Y_test_initial.shape)"
   ]
  },
  {
   "cell_type": "code",
   "execution_count": 93,
   "metadata": {},
   "outputs": [
    {
     "name": "stdout",
     "output_type": "stream",
     "text": [
      "(6846, 19) (6846, 19) (6846,) (6846,)\n"
     ]
    }
   ],
   "source": [
    "X_val,X_test_new,Y_val,Y_test_new=train_test_split(X_test_initial, \n",
    "                                                    Y_test_initial,test_size=0.5,shuffle=False,random_state=1)\n",
    "print(X_val.shape,X_test_new.shape,Y_val.shape,Y_test_new.shape)"
   ]
  },
  {
   "cell_type": "code",
   "execution_count": 94,
   "metadata": {},
   "outputs": [],
   "source": [
    "mapper = X_train_new.groupby('name_customer')['total_open_amount'].mean().to_dict() \n",
    "X_train_new['avg_amt_company'] = X_train_new['name_customer'].map(mapper)"
   ]
  },
  {
   "cell_type": "code",
   "execution_count": 95,
   "metadata": {},
   "outputs": [],
   "source": [
    "mapper = X_test.groupby('name_customer')['total_open_amount'].mean().to_dict() \n",
    "X_test['avg_amt_company'] = X_test['name_customer'].map(mapper)"
   ]
  },
  {
   "cell_type": "code",
   "execution_count": 96,
   "metadata": {},
   "outputs": [],
   "source": [
    "X_train_new['delay'] = Y_train_new \n",
    "target_mapper = X_train_new.groupby('name_customer')['delay'].agg(lambda x:x.value_counts().index[0]).to_dict()\n",
    "X_train_new['modedelay'] = X_train_new['name_customer'].map(target_mapper)\n",
    "X_train_new.drop('delay',axis=1,inplace=True)"
   ]
  },
  {
   "cell_type": "code",
   "execution_count": 97,
   "metadata": {},
   "outputs": [],
   "source": [
    "X_test['modedelay'] = X_test['name_customer'].map(target_mapper)"
   ]
  },
  {
   "cell_type": "code",
   "execution_count": 98,
   "metadata": {},
   "outputs": [],
   "source": [
    "X_test['modedelay'].fillna(0,inplace=True)"
   ]
  },
  {
   "cell_type": "code",
   "execution_count": 99,
   "metadata": {},
   "outputs": [],
   "source": [
    "X_test['posting_date']=pd.to_datetime(X_test.posting_date,format=\"%Y-%m-%d\")\n",
    "X_test['baseline_create_date']=pd.to_datetime(X_test.baseline_create_date,format=\"%Y%m%d\")\n",
    "X_test['document_create_date.1']=pd.to_datetime(X_test['document_create_date.1'],format=\"%Y%m%d\")"
   ]
  },
  {
   "cell_type": "code",
   "execution_count": 100,
   "metadata": {},
   "outputs": [],
   "source": [
    "X_test['diff']=X_test['due_in_date']\n",
    "X_test['diff']=X_test['due_in_date']-X_test['document_create_date.1']\n",
    "X_test['diff']=( X_test['diff']/ np.timedelta64 (1, 'D')).astype (float)"
   ]
  },
  {
   "cell_type": "code",
   "execution_count": 101,
   "metadata": {},
   "outputs": [],
   "source": [
    "X_train_new['diff']=X_train_new['due_in_date']\n",
    "X_train_new['diff']=X_train_new['due_in_date']-X_train_new['document_create_date.1']\n",
    "X_train_new['diff']=( X_train_new['diff']/ np.timedelta64 (1, 'D')).astype (float)"
   ]
  },
  {
   "cell_type": "code",
   "execution_count": 102,
   "metadata": {},
   "outputs": [
    {
     "data": {
      "text/plain": [
       "['clear_date',\n",
       " 'posting_date',\n",
       " 'document_create_date.1',\n",
       " 'due_in_date',\n",
       " 'baseline_create_date']"
      ]
     },
     "execution_count": 102,
     "metadata": {},
     "output_type": "execute_result"
    }
   ],
   "source": [
    "obj_columns=list(X_test.columns[X_test.dtypes=='object'])\n",
    "obj_columns\n",
    "date_columns=list(X_test.columns[X_test.dtypes=='datetime64[ns]'])\n",
    "date_columns"
   ]
  },
  {
   "cell_type": "code",
   "execution_count": 103,
   "metadata": {},
   "outputs": [],
   "source": [
    "X_test.drop(obj_columns,axis=1,inplace=True)\n",
    "X_test.drop(date_columns,axis=1,inplace=True)"
   ]
  },
  {
   "cell_type": "code",
   "execution_count": 104,
   "metadata": {},
   "outputs": [],
   "source": [
    "X_train_new.drop(obj_columns,axis=1,inplace=True)\n",
    "X_train_new.drop(date_columns,axis=1,inplace=True)"
   ]
  },
  {
   "cell_type": "code",
   "execution_count": 105,
   "metadata": {},
   "outputs": [],
   "source": [
    "X_test.drop(['buisness_year','doc_id','document_create_date','posting_id','area_business','invoice_id'],axis=1,inplace=True)"
   ]
  },
  {
   "cell_type": "code",
   "execution_count": 106,
   "metadata": {},
   "outputs": [],
   "source": [
    "X_train_new.drop(['buisness_year','doc_id','document_create_date','posting_id','area_business','invoice_id'],axis=1,inplace=True)"
   ]
  },
  {
   "cell_type": "code",
   "execution_count": 109,
   "metadata": {},
   "outputs": [
    {
     "data": {
      "text/html": [
       "<div>\n",
       "<style scoped>\n",
       "    .dataframe tbody tr th:only-of-type {\n",
       "        vertical-align: middle;\n",
       "    }\n",
       "\n",
       "    .dataframe tbody tr th {\n",
       "        vertical-align: top;\n",
       "    }\n",
       "\n",
       "    .dataframe thead th {\n",
       "        text-align: right;\n",
       "    }\n",
       "</style>\n",
       "<table border=\"1\" class=\"dataframe\">\n",
       "  <thead>\n",
       "    <tr style=\"text-align: right;\">\n",
       "      <th></th>\n",
       "      <th>total_open_amount</th>\n",
       "      <th>avg_amt_company</th>\n",
       "      <th>modedelay</th>\n",
       "      <th>diff</th>\n",
       "    </tr>\n",
       "  </thead>\n",
       "  <tbody>\n",
       "    <tr>\n",
       "      <th>0</th>\n",
       "      <td>2213.53</td>\n",
       "      <td>21931.645227</td>\n",
       "      <td>-5.0</td>\n",
       "      <td>15.0</td>\n",
       "    </tr>\n",
       "    <tr>\n",
       "      <th>1</th>\n",
       "      <td>44919.66</td>\n",
       "      <td>22248.620362</td>\n",
       "      <td>-4.0</td>\n",
       "      <td>15.0</td>\n",
       "    </tr>\n",
       "    <tr>\n",
       "      <th>2</th>\n",
       "      <td>7340.26</td>\n",
       "      <td>6626.754265</td>\n",
       "      <td>-8.0</td>\n",
       "      <td>0.0</td>\n",
       "    </tr>\n",
       "    <tr>\n",
       "      <th>3</th>\n",
       "      <td>21581.75</td>\n",
       "      <td>34787.456000</td>\n",
       "      <td>0.0</td>\n",
       "      <td>40.0</td>\n",
       "    </tr>\n",
       "    <tr>\n",
       "      <th>4</th>\n",
       "      <td>283.68</td>\n",
       "      <td>23467.855098</td>\n",
       "      <td>0.0</td>\n",
       "      <td>20.0</td>\n",
       "    </tr>\n",
       "  </tbody>\n",
       "</table>\n",
       "</div>"
      ],
      "text/plain": [
       "   total_open_amount  avg_amt_company  modedelay  diff\n",
       "0            2213.53     21931.645227       -5.0  15.0\n",
       "1           44919.66     22248.620362       -4.0  15.0\n",
       "2            7340.26      6626.754265       -8.0   0.0\n",
       "3           21581.75     34787.456000        0.0  40.0\n",
       "4             283.68     23467.855098        0.0  20.0"
      ]
     },
     "execution_count": 109,
     "metadata": {},
     "output_type": "execute_result"
    }
   ],
   "source": [
    "X_train_new.head()"
   ]
  },
  {
   "cell_type": "code",
   "execution_count": 108,
   "metadata": {},
   "outputs": [],
   "source": [
    "X_train_new.drop(['isOpen'],axis=1,inplace=True)"
   ]
  },
  {
   "cell_type": "code",
   "execution_count": 110,
   "metadata": {},
   "outputs": [],
   "source": [
    "from sklearn.linear_model import LinearRegression\n",
    "from sklearn.svm import SVR\n",
    "from sklearn.tree import DecisionTreeRegressor\n",
    "from sklearn.ensemble import RandomForestRegressor\n",
    "import xgboost as xgb\n",
    "from sklearn.datasets import load_boston\n",
    "from sklearn.metrics import mean_squared_error\n",
    "from sklearn.metrics import r2_score"
   ]
  },
  {
   "cell_type": "code",
   "execution_count": 111,
   "metadata": {},
   "outputs": [],
   "source": [
    "\n",
    "\n",
    "clf = LinearRegression()\n",
    "clf.fit(X_train_new, Y_train_new)\n",
    "predicted = clf.predict(X_train_new)"
   ]
  },
  {
   "cell_type": "code",
   "execution_count": 112,
   "metadata": {},
   "outputs": [
    {
     "data": {
      "text/plain": [
       "array([ -2.59141841,  -1.99300791,  -2.31870373, ...,  -2.65406517,\n",
       "         1.49314279, -20.45048685])"
      ]
     },
     "execution_count": 112,
     "metadata": {},
     "output_type": "execute_result"
    }
   ],
   "source": [
    "predicted"
   ]
  },
  {
   "cell_type": "code",
   "execution_count": 113,
   "metadata": {},
   "outputs": [
    {
     "data": {
      "text/plain": [
       "63.00743454808232"
      ]
     },
     "execution_count": 113,
     "metadata": {},
     "output_type": "execute_result"
    }
   ],
   "source": [
    "y=mean_squared_error(Y_train_new, predicted)\n",
    "y"
   ]
  },
  {
   "cell_type": "code",
   "execution_count": 114,
   "metadata": {},
   "outputs": [],
   "source": [
    "X_test.drop(['isOpen','delay'],axis=1,inplace=True)"
   ]
  },
  {
   "cell_type": "code",
   "execution_count": 115,
   "metadata": {},
   "outputs": [
    {
     "data": {
      "text/html": [
       "<div>\n",
       "<style scoped>\n",
       "    .dataframe tbody tr th:only-of-type {\n",
       "        vertical-align: middle;\n",
       "    }\n",
       "\n",
       "    .dataframe tbody tr th {\n",
       "        vertical-align: top;\n",
       "    }\n",
       "\n",
       "    .dataframe thead th {\n",
       "        text-align: right;\n",
       "    }\n",
       "</style>\n",
       "<table border=\"1\" class=\"dataframe\">\n",
       "  <thead>\n",
       "    <tr style=\"text-align: right;\">\n",
       "      <th></th>\n",
       "      <th>total_open_amount</th>\n",
       "      <th>avg_amt_company</th>\n",
       "      <th>modedelay</th>\n",
       "      <th>diff</th>\n",
       "    </tr>\n",
       "  </thead>\n",
       "  <tbody>\n",
       "    <tr>\n",
       "      <th>0</th>\n",
       "      <td>2213.53</td>\n",
       "      <td>21931.645227</td>\n",
       "      <td>-5.0</td>\n",
       "      <td>15.0</td>\n",
       "    </tr>\n",
       "    <tr>\n",
       "      <th>1</th>\n",
       "      <td>44919.66</td>\n",
       "      <td>22248.620362</td>\n",
       "      <td>-4.0</td>\n",
       "      <td>15.0</td>\n",
       "    </tr>\n",
       "    <tr>\n",
       "      <th>2</th>\n",
       "      <td>7340.26</td>\n",
       "      <td>6626.754265</td>\n",
       "      <td>-8.0</td>\n",
       "      <td>0.0</td>\n",
       "    </tr>\n",
       "    <tr>\n",
       "      <th>3</th>\n",
       "      <td>21581.75</td>\n",
       "      <td>34787.456000</td>\n",
       "      <td>0.0</td>\n",
       "      <td>40.0</td>\n",
       "    </tr>\n",
       "    <tr>\n",
       "      <th>4</th>\n",
       "      <td>283.68</td>\n",
       "      <td>23467.855098</td>\n",
       "      <td>0.0</td>\n",
       "      <td>20.0</td>\n",
       "    </tr>\n",
       "  </tbody>\n",
       "</table>\n",
       "</div>"
      ],
      "text/plain": [
       "   total_open_amount  avg_amt_company  modedelay  diff\n",
       "0            2213.53     21931.645227       -5.0  15.0\n",
       "1           44919.66     22248.620362       -4.0  15.0\n",
       "2            7340.26      6626.754265       -8.0   0.0\n",
       "3           21581.75     34787.456000        0.0  40.0\n",
       "4             283.68     23467.855098        0.0  20.0"
      ]
     },
     "execution_count": 115,
     "metadata": {},
     "output_type": "execute_result"
    }
   ],
   "source": [
    "X_train_new.head()"
   ]
  },
  {
   "cell_type": "code",
   "execution_count": 116,
   "metadata": {},
   "outputs": [
    {
     "data": {
      "text/html": [
       "<div>\n",
       "<style scoped>\n",
       "    .dataframe tbody tr th:only-of-type {\n",
       "        vertical-align: middle;\n",
       "    }\n",
       "\n",
       "    .dataframe tbody tr th {\n",
       "        vertical-align: top;\n",
       "    }\n",
       "\n",
       "    .dataframe thead th {\n",
       "        text-align: right;\n",
       "    }\n",
       "</style>\n",
       "<table border=\"1\" class=\"dataframe\">\n",
       "  <thead>\n",
       "    <tr style=\"text-align: right;\">\n",
       "      <th></th>\n",
       "      <th>total_open_amount</th>\n",
       "      <th>avg_amt_company</th>\n",
       "      <th>modedelay</th>\n",
       "      <th>diff</th>\n",
       "    </tr>\n",
       "  </thead>\n",
       "  <tbody>\n",
       "    <tr>\n",
       "      <th>45640</th>\n",
       "      <td>4071.12</td>\n",
       "      <td>21566.826250</td>\n",
       "      <td>1.0</td>\n",
       "      <td>15.0</td>\n",
       "    </tr>\n",
       "    <tr>\n",
       "      <th>45641</th>\n",
       "      <td>39121.54</td>\n",
       "      <td>24706.954500</td>\n",
       "      <td>1.0</td>\n",
       "      <td>15.0</td>\n",
       "    </tr>\n",
       "    <tr>\n",
       "      <th>45642</th>\n",
       "      <td>3289.18</td>\n",
       "      <td>15146.092500</td>\n",
       "      <td>0.0</td>\n",
       "      <td>15.0</td>\n",
       "    </tr>\n",
       "    <tr>\n",
       "      <th>45643</th>\n",
       "      <td>78217.96</td>\n",
       "      <td>18501.498585</td>\n",
       "      <td>-5.0</td>\n",
       "      <td>15.0</td>\n",
       "    </tr>\n",
       "    <tr>\n",
       "      <th>45644</th>\n",
       "      <td>14565.55</td>\n",
       "      <td>28213.058333</td>\n",
       "      <td>0.0</td>\n",
       "      <td>20.0</td>\n",
       "    </tr>\n",
       "  </tbody>\n",
       "</table>\n",
       "</div>"
      ],
      "text/plain": [
       "       total_open_amount  avg_amt_company  modedelay  diff\n",
       "45640            4071.12     21566.826250        1.0  15.0\n",
       "45641           39121.54     24706.954500        1.0  15.0\n",
       "45642            3289.18     15146.092500        0.0  15.0\n",
       "45643           78217.96     18501.498585       -5.0  15.0\n",
       "45644           14565.55     28213.058333        0.0  20.0"
      ]
     },
     "execution_count": 116,
     "metadata": {},
     "output_type": "execute_result"
    }
   ],
   "source": [
    "X_test.head()"
   ]
  },
  {
   "cell_type": "code",
   "execution_count": 117,
   "metadata": {},
   "outputs": [
    {
     "data": {
      "text/plain": [
       "array([ 2.30381737,  2.12540471,  1.48723061, ..., -3.40231345,\n",
       "       -2.06718868,  2.06207481])"
      ]
     },
     "execution_count": 117,
     "metadata": {},
     "output_type": "execute_result"
    }
   ],
   "source": [
    "clf = LinearRegression()\n",
    "clf.fit(X_train_new, Y_train_new)\n",
    "predicted = clf.predict(X_test)\n",
    "predicted"
   ]
  },
  {
   "cell_type": "code",
   "execution_count": 119,
   "metadata": {},
   "outputs": [],
   "source": [
    "import pickle"
   ]
  },
  {
   "cell_type": "code",
   "execution_count": 121,
   "metadata": {},
   "outputs": [],
   "source": [
    "with open('model_pickle','wb') as file:\n",
    "    pickle.dump(clf,file)"
   ]
  },
  {
   "cell_type": "code",
   "execution_count": null,
   "metadata": {},
   "outputs": [],
   "source": []
  }
 ],
 "metadata": {
  "kernelspec": {
   "display_name": "Python 3",
   "language": "python",
   "name": "python3"
  },
  "language_info": {
   "codemirror_mode": {
    "name": "ipython",
    "version": 3
   },
   "file_extension": ".py",
   "mimetype": "text/x-python",
   "name": "python",
   "nbconvert_exporter": "python",
   "pygments_lexer": "ipython3",
   "version": "3.7.7"
  }
 },
 "nbformat": 4,
 "nbformat_minor": 4
}
